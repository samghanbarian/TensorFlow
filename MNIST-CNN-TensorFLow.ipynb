{
 "cells": [
  {
   "cell_type": "markdown",
   "metadata": {},
   "source": [
    "#### Importing necessary packages\n"
   ]
  },
  {
   "cell_type": "code",
   "execution_count": 2,
   "metadata": {},
   "outputs": [],
   "source": [
    "import tensorflow as tf\n",
    "import tensorflow_datasets as tfds"
   ]
  },
  {
   "cell_type": "markdown",
   "metadata": {},
   "source": [
    "#### Loading and preprocessing the data\n",
    "##### Steps involed in preprocessing of MNIST\n",
    "1- determining the hyperparams/constants <br>\n",
    "2- scaling the data <br>\n",
    "3- defining the size of validation dataset <br>\n",
    "4- shuffling the data <br>\n",
    "5- seperating te train and validation datasets <br>\n",
    "6- batching the datasets <br>\n"
   ]
  },
  {
   "cell_type": "code",
   "execution_count": 11,
   "metadata": {},
   "outputs": [],
   "source": [
    "# Defining some constants/hyperparameters\n",
    "BUFFER_SIZE = 70_000 # for reshuffling\n",
    "BATCH_SIZE = 128\n",
    "NUM_EPOCHS = 20"
   ]
  },
  {
   "cell_type": "code",
   "execution_count": 3,
   "metadata": {},
   "outputs": [],
   "source": [
    "#with_info returns the meta info about the dataset\n",
    "mnist_data, mnist_info = tfds.load(name=\"mnist\", as_supervised=True,with_info=True)\n"
   ]
  },
  {
   "cell_type": "code",
   "execution_count": 4,
   "metadata": {},
   "outputs": [],
   "source": [
    "mnist_train, mnist_test = mnist_data['train'],mnist_data['test']"
   ]
  },
  {
   "cell_type": "code",
   "execution_count": 5,
   "metadata": {},
   "outputs": [],
   "source": [
    "#defining the scale function to scale data between 0 and 1\n",
    "def scale(image, label):\n",
    "    image = tf.cast(image,tf.float32)\n",
    "    image /= 255.\n",
    "    return image, label"
   ]
  },
  {
   "cell_type": "code",
   "execution_count": 6,
   "metadata": {},
   "outputs": [],
   "source": [
    "#scaling data by applying the function on the train and test data \n",
    "mnist_train_validation = mnist_train.map(scale)\n",
    "test_data = mnist_test.map(scale)"
   ]
  },
  {
   "cell_type": "code",
   "execution_count": 9,
   "metadata": {},
   "outputs": [
    {
     "name": "stdout",
     "output_type": "stream",
     "text": [
      "tf.Tensor(6000, shape=(), dtype=int64)\n"
     ]
    }
   ],
   "source": [
    "#defining the size of validation set\n",
    "validation_size = tf.cast(.1 * mnist_info.splits['train'].num_examples, tf.int64)\n",
    "print(validation_size)"
   ]
  },
  {
   "cell_type": "code",
   "execution_count": 10,
   "metadata": {},
   "outputs": [
    {
     "name": "stdout",
     "output_type": "stream",
     "text": [
      "tf.Tensor(10000, shape=(), dtype=int64)\n"
     ]
    }
   ],
   "source": [
    "#defining the size of test set\n",
    "test_size = tf.cast(mnist_info.splits['test'].num_examples,tf.int64)\n",
    "print(test_size)"
   ]
  },
  {
   "cell_type": "code",
   "execution_count": 18,
   "metadata": {},
   "outputs": [],
   "source": [
    "#reshuffling the dataset\n",
    "mnist_train_validation = mnist_train_validation.shuffle(BUFFER_SIZE)"
   ]
  },
  {
   "cell_type": "code",
   "execution_count": 20,
   "metadata": {},
   "outputs": [],
   "source": [
    "#splitting the train and validation datasets\n",
    "#\n",
    "train_data = mnist_train_validation.skip(validation_size)\n",
    "validation_data = mnist_train_validation.take(validation_size)\n"
   ]
  },
  {
   "cell_type": "code",
   "execution_count": 21,
   "metadata": {},
   "outputs": [],
   "source": [
    "#batching the data\n",
    "train_data = train_data.batch(BATCH_SIZE)\n",
    "validation_data = validation_data.batch(validation_size)\n",
    "test_data = test_data.batch(test_size)"
   ]
  },
  {
   "cell_type": "markdown",
   "metadata": {},
   "source": [
    "#### Creating the CNN model\n",
    "the model architecture will be CONV-> MAXPOOL-> CONV-> MAXPOOL-> FLATTEN-> DENSE"
   ]
  },
  {
   "cell_type": "code",
   "execution_count": 28,
   "metadata": {},
   "outputs": [],
   "source": [
    "model = tf.keras.Sequential([\n",
    "    tf.keras.layers.Conv2D(50, 5, activation = 'relu', input_shape=(28,28,1)),\n",
    "    tf.keras.layers.MaxPooling2D(pool_size =(2,2)),\n",
    "    tf.keras.layers.Conv2D(50,3, activation = 'relu'),\n",
    "    tf.keras.layers.MaxPooling2D(pool_size = (2,2)),\n",
    "    tf.keras.layers.Flatten(),\n",
    "    tf.keras.layers.Dense(10) # 10 digits to recognize\n",
    "])"
   ]
  },
  {
   "cell_type": "code",
   "execution_count": 29,
   "metadata": {},
   "outputs": [
    {
     "name": "stdout",
     "output_type": "stream",
     "text": [
      "Model: \"sequential_1\"\n",
      "________________________________________________________________________________\n",
      "Layer (type)                        Output Shape                    Param #     \n",
      "================================================================================\n",
      "conv2d_2 (Conv2D)                   (None, 24, 24, 50)              1300        \n",
      "________________________________________________________________________________\n",
      "max_pooling2d_2 (MaxPooling2D)      (None, 12, 12, 50)              0           \n",
      "________________________________________________________________________________\n",
      "conv2d_3 (Conv2D)                   (None, 10, 10, 50)              22550       \n",
      "________________________________________________________________________________\n",
      "max_pooling2d_3 (MaxPooling2D)      (None, 5, 5, 50)                0           \n",
      "________________________________________________________________________________\n",
      "flatten_1 (Flatten)                 (None, 1250)                    0           \n",
      "________________________________________________________________________________\n",
      "dense_1 (Dense)                     (None, 10)                      12510       \n",
      "================================================================================\n",
      "Total params: 36,360\n",
      "Trainable params: 36,360\n",
      "Non-trainable params: 0\n",
      "________________________________________________________________________________\n"
     ]
    }
   ],
   "source": [
    "#summary of the model\n",
    "model.summary(line_length=80)"
   ]
  },
  {
   "cell_type": "code",
   "execution_count": 31,
   "metadata": {},
   "outputs": [],
   "source": [
    "#incorporating the softmax into loss function\n",
    "#when using the softmax activation, the loss can rarely be unstable\n",
    "# use a loss calculation that automatically corrects for the missing softmax\n",
    "loss_fn = tf.keras.losses.SparseCategoricalCrossentropy(from_logits=True)"
   ]
  },
  {
   "cell_type": "code",
   "execution_count": 32,
   "metadata": {},
   "outputs": [],
   "source": [
    "#compliling the model\n",
    "model.compile(optimizer='adam',loss=loss_fn, metrics=['accuracy'])"
   ]
  },
  {
   "cell_type": "code",
   "execution_count": 34,
   "metadata": {},
   "outputs": [],
   "source": [
    "#defining early stoping\n",
    "early_stopping = tf.keras.callbacks.EarlyStopping(\n",
    "    monitor='val_loss',\n",
    "    min_delta= 0,\n",
    "    mode = 'auto',\n",
    "    patience = 2,\n",
    "    verbose = 2,\n",
    "    restore_best_weights = True\n",
    ")"
   ]
  },
  {
   "cell_type": "code",
   "execution_count": 39,
   "metadata": {},
   "outputs": [
    {
     "name": "stdout",
     "output_type": "stream",
     "text": [
      "Epoch 1/20\n",
      "422/422 - 25s - loss: 0.0703 - accuracy: 0.9789 - val_loss: 0.0581 - val_accuracy: 0.9818\n",
      "Epoch 2/20\n",
      "422/422 - 26s - loss: 0.0513 - accuracy: 0.9845 - val_loss: 0.0361 - val_accuracy: 0.9895\n",
      "Epoch 3/20\n",
      "422/422 - 25s - loss: 0.0396 - accuracy: 0.9880 - val_loss: 0.0418 - val_accuracy: 0.9863\n",
      "Epoch 4/20\n",
      "422/422 - 26s - loss: 0.0355 - accuracy: 0.9892 - val_loss: 0.0313 - val_accuracy: 0.9905\n",
      "Epoch 5/20\n",
      "422/422 - 26s - loss: 0.0310 - accuracy: 0.9901 - val_loss: 0.0237 - val_accuracy: 0.9932\n",
      "Epoch 6/20\n",
      "422/422 - 26s - loss: 0.0260 - accuracy: 0.9923 - val_loss: 0.0178 - val_accuracy: 0.9947\n",
      "Epoch 7/20\n",
      "422/422 - 25s - loss: 0.0231 - accuracy: 0.9928 - val_loss: 0.0161 - val_accuracy: 0.9960\n",
      "Epoch 8/20\n",
      "422/422 - 26s - loss: 0.0204 - accuracy: 0.9938 - val_loss: 0.0205 - val_accuracy: 0.9940\n",
      "Epoch 9/20\n",
      "422/422 - 26s - loss: 0.0175 - accuracy: 0.9943 - val_loss: 0.0190 - val_accuracy: 0.9932\n",
      "Restoring model weights from the end of the best epoch.\n",
      "Epoch 00009: early stopping\n"
     ]
    },
    {
     "data": {
      "text/plain": [
       "<tensorflow.python.keras.callbacks.History at 0x18b5900ca90>"
      ]
     },
     "execution_count": 39,
     "metadata": {},
     "output_type": "execute_result"
    }
   ],
   "source": [
    "#train the network\n",
    "model.fit(\n",
    "    train_data,\n",
    "    epochs= NUM_EPOCHS,\n",
    "    validation_data= validation_data,\n",
    "    callbacks= [early_stopping],\n",
    "    verbose=2\n",
    ")"
   ]
  },
  {
   "cell_type": "markdown",
   "metadata": {},
   "source": [
    "#### Testing the model"
   ]
  },
  {
   "cell_type": "code",
   "execution_count": 40,
   "metadata": {},
   "outputs": [
    {
     "name": "stdout",
     "output_type": "stream",
     "text": [
      "1/1 [==============================] - 1s 1s/step - loss: 0.0275 - accuracy: 0.9907\n"
     ]
    }
   ],
   "source": [
    "#evaluate returns the loss and metrics\n",
    "test_loss, test_accuracy = model.evaluate(test_data)"
   ]
  },
  {
   "cell_type": "code",
   "execution_count": 41,
   "metadata": {},
   "outputs": [
    {
     "name": "stdout",
     "output_type": "stream",
     "text": [
      "test loss:  0.0275. test accuracy:  99.07%\n"
     ]
    }
   ],
   "source": [
    "print('test loss: {0: .4f}. test accuracy: {1: .2f}%'.format(test_loss, test_accuracy*100))"
   ]
  },
  {
   "cell_type": "markdown",
   "metadata": {},
   "source": [
    "#### Plotting images and results"
   ]
  },
  {
   "cell_type": "code",
   "execution_count": 47,
   "metadata": {},
   "outputs": [],
   "source": [
    "#importing libraries\n",
    "import matplotlib.pyplot as plt\n",
    "import numpy as np"
   ]
  },
  {
   "cell_type": "code",
   "execution_count": 48,
   "metadata": {},
   "outputs": [],
   "source": [
    "#seperating test iamages and their labels into 2 arrays\n",
    "for images, labels in test_data:\n",
    "    images_test = images.numpy()\n",
    "    labels_test = labels.numpy()\n",
    "#reshaping the images for plotting\n",
    "images_reshape = np.reshape(images_test,(10000,28,28))\n"
   ]
  },
  {
   "cell_type": "code",
   "execution_count": 73,
   "metadata": {},
   "outputs": [
    {
     "data": {
      "image/png": "[encoded data removed]",
      "text/plain": [
       "<Figure size 144x144 with 1 Axes>"
      ]
     },
     "metadata": {
      "needs_background": "light"
     },
     "output_type": "display_data"
    },
    {
     "name": "stdout",
     "output_type": "stream",
     "text": [
      "label: 5\n"
     ]
    }
   ],
   "source": [
    "#read an image and display it\n",
    "i = 502\n",
    "plt.figure(figsize=(2,2))\n",
    "plt.axis('off')\n",
    "plt.imshow(images_reshape[i-1], cmap='gray', aspect='auto')\n",
    "plt.show()\n",
    "print('label: {}'.format(labels_test[i-1]))"
   ]
  },
  {
   "cell_type": "code",
   "execution_count": 74,
   "metadata": {},
   "outputs": [
    {
     "data": {
      "text/plain": [
       "array([[ -5.889513 , -18.7005   , -18.572338 ,  -5.1432576,  -1.1506456,\n",
       "          3.3093624,  -8.684445 ,  -1.2828286,   5.9344115,  -2.128931 ]],\n",
       "      dtype=float32)"
      ]
     },
     "execution_count": 74,
     "metadata": {},
     "output_type": "execute_result"
    }
   ],
   "source": [
    "#obtain model preds\n",
    "predictions = model.predict(images_test[i-1:i])\n",
    "predictions"
   ]
  },
  {
   "cell_type": "code",
   "execution_count": 76,
   "metadata": {},
   "outputs": [
    {
     "data": {
      "text/plain": [
       "array([[6.8200979e-04, 1.8622992e-09, 2.1169453e-09, 1.4384191e-03,\n",
       "        7.7956930e-02, 6.7423553e+00, 4.1683801e-05, 6.8304345e-02,\n",
       "        9.3079918e+01, 2.9308299e-02]], dtype=float32)"
      ]
     },
     "execution_count": 76,
     "metadata": {},
     "output_type": "execute_result"
    }
   ],
   "source": [
    "#converting predictions into probabilities\n",
    "prob = tf.nn.softmax(predictions).numpy()\n",
    "prob = prob *100\n",
    "prob"
   ]
  },
  {
   "cell_type": "code",
   "execution_count": 77,
   "metadata": {},
   "outputs": [
    {
     "data": {
      "text/plain": [
       "<BarContainer object of 10 artists>"
      ]
     },
     "execution_count": 77,
     "metadata": {},
     "output_type": "execute_result"
    },
    {
     "data": {
      "image/png": "[encoded data removed]",
      "text/plain": [
       "<Figure size 864x432 with 1 Axes>"
      ]
     },
     "metadata": {
      "needs_background": "light"
     },
     "output_type": "display_data"
    }
   ],
   "source": [
    "#plotting the probabilities for each class for the image i\n",
    "plt.figure(figsize=(12,6))\n",
    "plt.bar(x = [0,1,2,3,4,5,6,7,8,9], height= prob[0], tick_label = [\"0\",\"1\",\"2\",\"3\",\"4\",\"5\",\"6\",\"7\",\"8\",\"9\"] )"
   ]
  },
  {
   "cell_type": "code",
   "execution_count": null,
   "metadata": {},
   "outputs": [],
   "source": []
  }
 ],
 "metadata": {
  "kernelspec": {
   "display_name": "Python 3",
   "language": "python",
   "name": "python3"
  },
  "language_info": {
   "codemirror_mode": {
    "name": "ipython",
    "version": 3
   },
   "file_extension": ".py",
   "mimetype": "text/x-python",
   "name": "python",
   "nbconvert_exporter": "python",
   "pygments_lexer": "ipython3",
   "version": "3.8.5"
  }
 },
 "nbformat": 4,
 "nbformat_minor": 4
}
